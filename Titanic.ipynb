{
  "cells": [
    {
      "cell_type": "code",
      "source": [
        "import pandas as pd\n",
        "import matplotlib.pyplot as plt\n",
        "%matplotlib inline\n",
        "\ntraind = pd.read_csv(\"C:\\\\Users\\\\ericp\\\\OneDrive\\\\Documents\\\\GitHub\\\\2.01-lab-pandas-titanic\\\\Data\\\\train.csv\")"
      ],
      "outputs": [],
      "execution_count": 1,
      "metadata": {}
    },
    {
      "cell_type": "code",
      "source": [
        "traind.head()"
      ],
      "outputs": [
        {
          "output_type": "execute_result",
          "execution_count": 2,
          "data": {
            "text/plain": [
              "   PassengerId  Survived  Pclass  \\\n",
              "0            1         0       3   \n",
              "1            2         1       1   \n",
              "2            3         1       3   \n",
              "3            4         1       1   \n",
              "4            5         0       3   \n",
              "\n",
              "                                                Name     Sex   Age  SibSp  \\\n",
              "0                            Braund, Mr. Owen Harris    male  22.0      1   \n",
              "1  Cumings, Mrs. John Bradley (Florence Briggs Th...  female  38.0      1   \n",
              "2                             Heikkinen, Miss. Laina  female  26.0      0   \n",
              "3       Futrelle, Mrs. Jacques Heath (Lily May Peel)  female  35.0      1   \n",
              "4                           Allen, Mr. William Henry    male  35.0      0   \n",
              "\n",
              "   Parch            Ticket     Fare Cabin Embarked  \n",
              "0      0         A/5 21171   7.2500   NaN        S  \n",
              "1      0          PC 17599  71.2833   C85        C  \n",
              "2      0  STON/O2. 3101282   7.9250   NaN        S  \n",
              "3      0            113803  53.1000  C123        S  \n",
              "4      0            373450   8.0500   NaN        S  "
            ],
            "text/html": [
              "<div>\n",
              "<style scoped>\n",
              "    .dataframe tbody tr th:only-of-type {\n",
              "        vertical-align: middle;\n",
              "    }\n",
              "\n",
              "    .dataframe tbody tr th {\n",
              "        vertical-align: top;\n",
              "    }\n",
              "\n",
              "    .dataframe thead th {\n",
              "        text-align: right;\n",
              "    }\n",
              "</style>\n",
              "<table border=\"1\" class=\"dataframe\">\n",
              "  <thead>\n",
              "    <tr style=\"text-align: right;\">\n",
              "      <th></th>\n",
              "      <th>PassengerId</th>\n",
              "      <th>Survived</th>\n",
              "      <th>Pclass</th>\n",
              "      <th>Name</th>\n",
              "      <th>Sex</th>\n",
              "      <th>Age</th>\n",
              "      <th>SibSp</th>\n",
              "      <th>Parch</th>\n",
              "      <th>Ticket</th>\n",
              "      <th>Fare</th>\n",
              "      <th>Cabin</th>\n",
              "      <th>Embarked</th>\n",
              "    </tr>\n",
              "  </thead>\n",
              "  <tbody>\n",
              "    <tr>\n",
              "      <th>0</th>\n",
              "      <td>1</td>\n",
              "      <td>0</td>\n",
              "      <td>3</td>\n",
              "      <td>Braund, Mr. Owen Harris</td>\n",
              "      <td>male</td>\n",
              "      <td>22.0</td>\n",
              "      <td>1</td>\n",
              "      <td>0</td>\n",
              "      <td>A/5 21171</td>\n",
              "      <td>7.2500</td>\n",
              "      <td>NaN</td>\n",
              "      <td>S</td>\n",
              "    </tr>\n",
              "    <tr>\n",
              "      <th>1</th>\n",
              "      <td>2</td>\n",
              "      <td>1</td>\n",
              "      <td>1</td>\n",
              "      <td>Cumings, Mrs. John Bradley (Florence Briggs Th...</td>\n",
              "      <td>female</td>\n",
              "      <td>38.0</td>\n",
              "      <td>1</td>\n",
              "      <td>0</td>\n",
              "      <td>PC 17599</td>\n",
              "      <td>71.2833</td>\n",
              "      <td>C85</td>\n",
              "      <td>C</td>\n",
              "    </tr>\n",
              "    <tr>\n",
              "      <th>2</th>\n",
              "      <td>3</td>\n",
              "      <td>1</td>\n",
              "      <td>3</td>\n",
              "      <td>Heikkinen, Miss. Laina</td>\n",
              "      <td>female</td>\n",
              "      <td>26.0</td>\n",
              "      <td>0</td>\n",
              "      <td>0</td>\n",
              "      <td>STON/O2. 3101282</td>\n",
              "      <td>7.9250</td>\n",
              "      <td>NaN</td>\n",
              "      <td>S</td>\n",
              "    </tr>\n",
              "    <tr>\n",
              "      <th>3</th>\n",
              "      <td>4</td>\n",
              "      <td>1</td>\n",
              "      <td>1</td>\n",
              "      <td>Futrelle, Mrs. Jacques Heath (Lily May Peel)</td>\n",
              "      <td>female</td>\n",
              "      <td>35.0</td>\n",
              "      <td>1</td>\n",
              "      <td>0</td>\n",
              "      <td>113803</td>\n",
              "      <td>53.1000</td>\n",
              "      <td>C123</td>\n",
              "      <td>S</td>\n",
              "    </tr>\n",
              "    <tr>\n",
              "      <th>4</th>\n",
              "      <td>5</td>\n",
              "      <td>0</td>\n",
              "      <td>3</td>\n",
              "      <td>Allen, Mr. William Henry</td>\n",
              "      <td>male</td>\n",
              "      <td>35.0</td>\n",
              "      <td>0</td>\n",
              "      <td>0</td>\n",
              "      <td>373450</td>\n",
              "      <td>8.0500</td>\n",
              "      <td>NaN</td>\n",
              "      <td>S</td>\n",
              "    </tr>\n",
              "  </tbody>\n",
              "</table>\n",
              "</div>"
            ]
          },
          "metadata": {}
        }
      ],
      "execution_count": 2,
      "metadata": {
        "collapsed": false,
        "outputHidden": false,
        "inputHidden": false
      }
    },
    {
      "cell_type": "code",
      "source": [
        "traind.info() \n",
        "#viewing for NaN Values"
      ],
      "outputs": [
        {
          "output_type": "stream",
          "name": "stdout",
          "text": [
            "<class 'pandas.core.frame.DataFrame'>\n",
            "RangeIndex: 891 entries, 0 to 890\n",
            "Data columns (total 12 columns):\n",
            "PassengerId    891 non-null int64\n",
            "Survived       891 non-null int64\n",
            "Pclass         891 non-null int64\n",
            "Name           891 non-null object\n",
            "Sex            891 non-null object\n",
            "Age            714 non-null float64\n",
            "SibSp          891 non-null int64\n",
            "Parch          891 non-null int64\n",
            "Ticket         891 non-null object\n",
            "Fare           891 non-null float64\n",
            "Cabin          204 non-null object\n",
            "Embarked       889 non-null object\n",
            "dtypes: float64(2), int64(5), object(5)\n",
            "memory usage: 83.6+ KB\n"
          ]
        }
      ],
      "execution_count": 3,
      "metadata": {
        "collapsed": false,
        "outputHidden": false,
        "inputHidden": false
      }
    },
    {
      "cell_type": "code",
      "source": [
        "traind['Cabin'].loc[0:10]\n",
        "#Looking through Cabin for NaNs or incompatible types\n",
        "#Looks like NaNs"
      ],
      "outputs": [
        {
          "output_type": "execute_result",
          "execution_count": 4,
          "data": {
            "text/plain": [
              "0      NaN\n",
              "1      C85\n",
              "2      NaN\n",
              "3     C123\n",
              "4      NaN\n",
              "5      NaN\n",
              "6      E46\n",
              "7      NaN\n",
              "8      NaN\n",
              "9      NaN\n",
              "10      G6\n",
              "Name: Cabin, dtype: object"
            ]
          },
          "metadata": {}
        }
      ],
      "execution_count": 4,
      "metadata": {
        "collapsed": false,
        "outputHidden": false,
        "inputHidden": false
      }
    },
    {
      "cell_type": "code",
      "source": [
        "#Setting up bar chart to graph values. Reversing the data values\n",
        "inverselist = [891 for x in range(0, 12)]\n",
        "plotbar = inverselist - traind.count()\n"
      ],
      "outputs": [],
      "execution_count": 5,
      "metadata": {
        "collapsed": false,
        "outputHidden": false,
        "inputHidden": false
      }
    },
    {
      "cell_type": "code",
      "source": [
        "plotbar.plot(kind = \"bar\")\n",
        "plt.title('Number of NaNs in Dataframe')\n",
        "plt.show()"
      ],
      "outputs": [
        {
          "output_type": "display_data",
          "data": {
            "text/plain": [
              "<Figure size 432x288 with 1 Axes>"
            ],
            "image/png": "[encoded data removed]"
          },
          "metadata": {
            "needs_background": "light"
          }
        }
      ],
      "execution_count": 6,
      "metadata": {
        "collapsed": false,
        "outputHidden": false,
        "inputHidden": false
      }
    },
    {
      "cell_type": "code",
      "source": [
        "#Dropping NaN rows for 'Embarked'\n",
        "traind.dropna(subset=['Embarked'], inplace=True)\n",
        "traind.info()"
      ],
      "outputs": [
        {
          "output_type": "stream",
          "name": "stdout",
          "text": [
            "<class 'pandas.core.frame.DataFrame'>\n",
            "Int64Index: 889 entries, 0 to 890\n",
            "Data columns (total 12 columns):\n",
            "PassengerId    889 non-null int64\n",
            "Survived       889 non-null int64\n",
            "Pclass         889 non-null int64\n",
            "Name           889 non-null object\n",
            "Sex            889 non-null object\n",
            "Age            712 non-null float64\n",
            "SibSp          889 non-null int64\n",
            "Parch          889 non-null int64\n",
            "Ticket         889 non-null object\n",
            "Fare           889 non-null float64\n",
            "Cabin          202 non-null object\n",
            "Embarked       889 non-null object\n",
            "dtypes: float64(2), int64(5), object(5)\n",
            "memory usage: 90.3+ KB\n"
          ]
        }
      ],
      "execution_count": 7,
      "metadata": {
        "collapsed": false,
        "outputHidden": false,
        "inputHidden": false
      }
    },
    {
      "cell_type": "code",
      "source": [
        "#Putting weird shoulder shrug guy into NA for Cabins\n",
        "traind['Cabin'].fillna('¯\\(ツ)/¯', inplace = True)\n",
        "traind[0:5]"
      ],
      "outputs": [
        {
          "output_type": "execute_result",
          "execution_count": 8,
          "data": {
            "text/plain": [
              "   PassengerId  Survived  Pclass  \\\n",
              "0            1         0       3   \n",
              "1            2         1       1   \n",
              "2            3         1       3   \n",
              "3            4         1       1   \n",
              "4            5         0       3   \n",
              "\n",
              "                                                Name     Sex   Age  SibSp  \\\n",
              "0                            Braund, Mr. Owen Harris    male  22.0      1   \n",
              "1  Cumings, Mrs. John Bradley (Florence Briggs Th...  female  38.0      1   \n",
              "2                             Heikkinen, Miss. Laina  female  26.0      0   \n",
              "3       Futrelle, Mrs. Jacques Heath (Lily May Peel)  female  35.0      1   \n",
              "4                           Allen, Mr. William Henry    male  35.0      0   \n",
              "\n",
              "   Parch            Ticket     Fare    Cabin Embarked  \n",
              "0      0         A/5 21171   7.2500  ¯\\(ツ)/¯        S  \n",
              "1      0          PC 17599  71.2833      C85        C  \n",
              "2      0  STON/O2. 3101282   7.9250  ¯\\(ツ)/¯        S  \n",
              "3      0            113803  53.1000     C123        S  \n",
              "4      0            373450   8.0500  ¯\\(ツ)/¯        S  "
            ],
            "text/html": [
              "<div>\n",
              "<style scoped>\n",
              "    .dataframe tbody tr th:only-of-type {\n",
              "        vertical-align: middle;\n",
              "    }\n",
              "\n",
              "    .dataframe tbody tr th {\n",
              "        vertical-align: top;\n",
              "    }\n",
              "\n",
              "    .dataframe thead th {\n",
              "        text-align: right;\n",
              "    }\n",
              "</style>\n",
              "<table border=\"1\" class=\"dataframe\">\n",
              "  <thead>\n",
              "    <tr style=\"text-align: right;\">\n",
              "      <th></th>\n",
              "      <th>PassengerId</th>\n",
              "      <th>Survived</th>\n",
              "      <th>Pclass</th>\n",
              "      <th>Name</th>\n",
              "      <th>Sex</th>\n",
              "      <th>Age</th>\n",
              "      <th>SibSp</th>\n",
              "      <th>Parch</th>\n",
              "      <th>Ticket</th>\n",
              "      <th>Fare</th>\n",
              "      <th>Cabin</th>\n",
              "      <th>Embarked</th>\n",
              "    </tr>\n",
              "  </thead>\n",
              "  <tbody>\n",
              "    <tr>\n",
              "      <th>0</th>\n",
              "      <td>1</td>\n",
              "      <td>0</td>\n",
              "      <td>3</td>\n",
              "      <td>Braund, Mr. Owen Harris</td>\n",
              "      <td>male</td>\n",
              "      <td>22.0</td>\n",
              "      <td>1</td>\n",
              "      <td>0</td>\n",
              "      <td>A/5 21171</td>\n",
              "      <td>7.2500</td>\n",
              "      <td>¯\\(ツ)/¯</td>\n",
              "      <td>S</td>\n",
              "    </tr>\n",
              "    <tr>\n",
              "      <th>1</th>\n",
              "      <td>2</td>\n",
              "      <td>1</td>\n",
              "      <td>1</td>\n",
              "      <td>Cumings, Mrs. John Bradley (Florence Briggs Th...</td>\n",
              "      <td>female</td>\n",
              "      <td>38.0</td>\n",
              "      <td>1</td>\n",
              "      <td>0</td>\n",
              "      <td>PC 17599</td>\n",
              "      <td>71.2833</td>\n",
              "      <td>C85</td>\n",
              "      <td>C</td>\n",
              "    </tr>\n",
              "    <tr>\n",
              "      <th>2</th>\n",
              "      <td>3</td>\n",
              "      <td>1</td>\n",
              "      <td>3</td>\n",
              "      <td>Heikkinen, Miss. Laina</td>\n",
              "      <td>female</td>\n",
              "      <td>26.0</td>\n",
              "      <td>0</td>\n",
              "      <td>0</td>\n",
              "      <td>STON/O2. 3101282</td>\n",
              "      <td>7.9250</td>\n",
              "      <td>¯\\(ツ)/¯</td>\n",
              "      <td>S</td>\n",
              "    </tr>\n",
              "    <tr>\n",
              "      <th>3</th>\n",
              "      <td>4</td>\n",
              "      <td>1</td>\n",
              "      <td>1</td>\n",
              "      <td>Futrelle, Mrs. Jacques Heath (Lily May Peel)</td>\n",
              "      <td>female</td>\n",
              "      <td>35.0</td>\n",
              "      <td>1</td>\n",
              "      <td>0</td>\n",
              "      <td>113803</td>\n",
              "      <td>53.1000</td>\n",
              "      <td>C123</td>\n",
              "      <td>S</td>\n",
              "    </tr>\n",
              "    <tr>\n",
              "      <th>4</th>\n",
              "      <td>5</td>\n",
              "      <td>0</td>\n",
              "      <td>3</td>\n",
              "      <td>Allen, Mr. William Henry</td>\n",
              "      <td>male</td>\n",
              "      <td>35.0</td>\n",
              "      <td>0</td>\n",
              "      <td>0</td>\n",
              "      <td>373450</td>\n",
              "      <td>8.0500</td>\n",
              "      <td>¯\\(ツ)/¯</td>\n",
              "      <td>S</td>\n",
              "    </tr>\n",
              "  </tbody>\n",
              "</table>\n",
              "</div>"
            ]
          },
          "metadata": {}
        }
      ],
      "execution_count": 8,
      "metadata": {
        "collapsed": false,
        "outputHidden": false,
        "inputHidden": false
      }
    },
    {
      "cell_type": "code",
      "source": [
        "#Creating family count series\n",
        "FamilyCount = pd.Series([x + y for x,y in zip(traind['SibSp'], traind['Parch'])])\n",
        "FamilyCount [0:10]"
      ],
      "outputs": [
        {
          "output_type": "execute_result",
          "execution_count": 9,
          "data": {
            "text/plain": [
              "0    1\n",
              "1    1\n",
              "2    0\n",
              "3    1\n",
              "4    0\n",
              "5    0\n",
              "6    0\n",
              "7    4\n",
              "8    2\n",
              "9    1\n",
              "dtype: int64"
            ]
          },
          "metadata": {}
        }
      ],
      "execution_count": 9,
      "metadata": {
        "collapsed": false,
        "outputHidden": false,
        "inputHidden": false
      }
    },
    {
      "cell_type": "code",
      "source": [
        "#Adding family count to the df\n",
        "combineddf = pd.concat([traind, FamilyCount], axis=1)\n",
        "combineddf.rename(columns={0:'FamilyCount'}, inplace=True)\n",
        "combineddf[0:5]"
      ],
      "outputs": [
        {
          "output_type": "execute_result",
          "execution_count": 10,
          "data": {
            "text/plain": [
              "   PassengerId  Survived  Pclass  \\\n",
              "0          1.0       0.0     3.0   \n",
              "1          2.0       1.0     1.0   \n",
              "2          3.0       1.0     3.0   \n",
              "3          4.0       1.0     1.0   \n",
              "4          5.0       0.0     3.0   \n",
              "\n",
              "                                                Name     Sex   Age  SibSp  \\\n",
              "0                            Braund, Mr. Owen Harris    male  22.0    1.0   \n",
              "1  Cumings, Mrs. John Bradley (Florence Briggs Th...  female  38.0    1.0   \n",
              "2                             Heikkinen, Miss. Laina  female  26.0    0.0   \n",
              "3       Futrelle, Mrs. Jacques Heath (Lily May Peel)  female  35.0    1.0   \n",
              "4                           Allen, Mr. William Henry    male  35.0    0.0   \n",
              "\n",
              "   Parch            Ticket     Fare    Cabin Embarked  FamilyCount  \n",
              "0    0.0         A/5 21171   7.2500  ¯\\(ツ)/¯        S          1.0  \n",
              "1    0.0          PC 17599  71.2833      C85        C          1.0  \n",
              "2    0.0  STON/O2. 3101282   7.9250  ¯\\(ツ)/¯        S          0.0  \n",
              "3    0.0            113803  53.1000     C123        S          1.0  \n",
              "4    0.0            373450   8.0500  ¯\\(ツ)/¯        S          0.0  "
            ],
            "text/html": [
              "<div>\n",
              "<style scoped>\n",
              "    .dataframe tbody tr th:only-of-type {\n",
              "        vertical-align: middle;\n",
              "    }\n",
              "\n",
              "    .dataframe tbody tr th {\n",
              "        vertical-align: top;\n",
              "    }\n",
              "\n",
              "    .dataframe thead th {\n",
              "        text-align: right;\n",
              "    }\n",
              "</style>\n",
              "<table border=\"1\" class=\"dataframe\">\n",
              "  <thead>\n",
              "    <tr style=\"text-align: right;\">\n",
              "      <th></th>\n",
              "      <th>PassengerId</th>\n",
              "      <th>Survived</th>\n",
              "      <th>Pclass</th>\n",
              "      <th>Name</th>\n",
              "      <th>Sex</th>\n",
              "      <th>Age</th>\n",
              "      <th>SibSp</th>\n",
              "      <th>Parch</th>\n",
              "      <th>Ticket</th>\n",
              "      <th>Fare</th>\n",
              "      <th>Cabin</th>\n",
              "      <th>Embarked</th>\n",
              "      <th>FamilyCount</th>\n",
              "    </tr>\n",
              "  </thead>\n",
              "  <tbody>\n",
              "    <tr>\n",
              "      <th>0</th>\n",
              "      <td>1.0</td>\n",
              "      <td>0.0</td>\n",
              "      <td>3.0</td>\n",
              "      <td>Braund, Mr. Owen Harris</td>\n",
              "      <td>male</td>\n",
              "      <td>22.0</td>\n",
              "      <td>1.0</td>\n",
              "      <td>0.0</td>\n",
              "      <td>A/5 21171</td>\n",
              "      <td>7.2500</td>\n",
              "      <td>¯\\(ツ)/¯</td>\n",
              "      <td>S</td>\n",
              "      <td>1.0</td>\n",
              "    </tr>\n",
              "    <tr>\n",
              "      <th>1</th>\n",
              "      <td>2.0</td>\n",
              "      <td>1.0</td>\n",
              "      <td>1.0</td>\n",
              "      <td>Cumings, Mrs. John Bradley (Florence Briggs Th...</td>\n",
              "      <td>female</td>\n",
              "      <td>38.0</td>\n",
              "      <td>1.0</td>\n",
              "      <td>0.0</td>\n",
              "      <td>PC 17599</td>\n",
              "      <td>71.2833</td>\n",
              "      <td>C85</td>\n",
              "      <td>C</td>\n",
              "      <td>1.0</td>\n",
              "    </tr>\n",
              "    <tr>\n",
              "      <th>2</th>\n",
              "      <td>3.0</td>\n",
              "      <td>1.0</td>\n",
              "      <td>3.0</td>\n",
              "      <td>Heikkinen, Miss. Laina</td>\n",
              "      <td>female</td>\n",
              "      <td>26.0</td>\n",
              "      <td>0.0</td>\n",
              "      <td>0.0</td>\n",
              "      <td>STON/O2. 3101282</td>\n",
              "      <td>7.9250</td>\n",
              "      <td>¯\\(ツ)/¯</td>\n",
              "      <td>S</td>\n",
              "      <td>0.0</td>\n",
              "    </tr>\n",
              "    <tr>\n",
              "      <th>3</th>\n",
              "      <td>4.0</td>\n",
              "      <td>1.0</td>\n",
              "      <td>1.0</td>\n",
              "      <td>Futrelle, Mrs. Jacques Heath (Lily May Peel)</td>\n",
              "      <td>female</td>\n",
              "      <td>35.0</td>\n",
              "      <td>1.0</td>\n",
              "      <td>0.0</td>\n",
              "      <td>113803</td>\n",
              "      <td>53.1000</td>\n",
              "      <td>C123</td>\n",
              "      <td>S</td>\n",
              "      <td>1.0</td>\n",
              "    </tr>\n",
              "    <tr>\n",
              "      <th>4</th>\n",
              "      <td>5.0</td>\n",
              "      <td>0.0</td>\n",
              "      <td>3.0</td>\n",
              "      <td>Allen, Mr. William Henry</td>\n",
              "      <td>male</td>\n",
              "      <td>35.0</td>\n",
              "      <td>0.0</td>\n",
              "      <td>0.0</td>\n",
              "      <td>373450</td>\n",
              "      <td>8.0500</td>\n",
              "      <td>¯\\(ツ)/¯</td>\n",
              "      <td>S</td>\n",
              "      <td>0.0</td>\n",
              "    </tr>\n",
              "  </tbody>\n",
              "</table>\n",
              "</div>"
            ]
          },
          "metadata": {}
        }
      ],
      "execution_count": 10,
      "metadata": {
        "collapsed": false,
        "outputHidden": false,
        "inputHidden": false
      }
    },
    {
      "cell_type": "code",
      "source": [
        "#Creating Reverends and adding\n",
        "reverend = list()\n",
        "\n",
        "for z in combineddf['Name']:\n",
        "    if 'Rev.' in str(z):\n",
        "        reverend.append(1)\n",
        "    else:\n",
        "        reverend.append(0)\n",
        "reverend = pd.Series(reverend)\n",
        "\n",
        "combineddf = pd.concat([combineddf, reverend], axis=1)\n",
        "combineddf.rename(columns={0:'IsReverend'}, inplace=True)\n"
      ],
      "outputs": [],
      "execution_count": 11,
      "metadata": {
        "collapsed": false,
        "outputHidden": false,
        "inputHidden": false
      }
    },
    {
      "cell_type": "code",
      "source": [
        "EmbarkDummy=pd.get_dummies(combineddf['Embarked'])\n",
        "Embarked_C = EmbarkDummy[['C']]\n",
        "Embarked_Q = EmbarkDummy[['Q']]\n",
        "Embarked_S = EmbarkDummy[['S']]\n",
        "\n",
        "combineddf = pd.concat([combineddf, Embarked_C, Embarked_Q, Embarked_S], axis=1)\n",
        "combineddf[0:2]"
      ],
      "outputs": [
        {
          "output_type": "execute_result",
          "execution_count": 12,
          "data": {
            "text/plain": [
              "   PassengerId  Survived  Pclass  \\\n",
              "0          1.0       0.0     3.0   \n",
              "1          2.0       1.0     1.0   \n",
              "\n",
              "                                                Name     Sex   Age  SibSp  \\\n",
              "0                            Braund, Mr. Owen Harris    male  22.0    1.0   \n",
              "1  Cumings, Mrs. John Bradley (Florence Briggs Th...  female  38.0    1.0   \n",
              "\n",
              "   Parch     Ticket     Fare    Cabin Embarked  FamilyCount  IsReverend  C  Q  \\\n",
              "0    0.0  A/5 21171   7.2500  ¯\\(ツ)/¯        S          1.0           0  0  0   \n",
              "1    0.0   PC 17599  71.2833      C85        C          1.0           0  1  0   \n",
              "\n",
              "   S  \n",
              "0  1  \n",
              "1  0  "
            ],
            "text/html": [
              "<div>\n",
              "<style scoped>\n",
              "    .dataframe tbody tr th:only-of-type {\n",
              "        vertical-align: middle;\n",
              "    }\n",
              "\n",
              "    .dataframe tbody tr th {\n",
              "        vertical-align: top;\n",
              "    }\n",
              "\n",
              "    .dataframe thead th {\n",
              "        text-align: right;\n",
              "    }\n",
              "</style>\n",
              "<table border=\"1\" class=\"dataframe\">\n",
              "  <thead>\n",
              "    <tr style=\"text-align: right;\">\n",
              "      <th></th>\n",
              "      <th>PassengerId</th>\n",
              "      <th>Survived</th>\n",
              "      <th>Pclass</th>\n",
              "      <th>Name</th>\n",
              "      <th>Sex</th>\n",
              "      <th>Age</th>\n",
              "      <th>SibSp</th>\n",
              "      <th>Parch</th>\n",
              "      <th>Ticket</th>\n",
              "      <th>Fare</th>\n",
              "      <th>Cabin</th>\n",
              "      <th>Embarked</th>\n",
              "      <th>FamilyCount</th>\n",
              "      <th>IsReverend</th>\n",
              "      <th>C</th>\n",
              "      <th>Q</th>\n",
              "      <th>S</th>\n",
              "    </tr>\n",
              "  </thead>\n",
              "  <tbody>\n",
              "    <tr>\n",
              "      <th>0</th>\n",
              "      <td>1.0</td>\n",
              "      <td>0.0</td>\n",
              "      <td>3.0</td>\n",
              "      <td>Braund, Mr. Owen Harris</td>\n",
              "      <td>male</td>\n",
              "      <td>22.0</td>\n",
              "      <td>1.0</td>\n",
              "      <td>0.0</td>\n",
              "      <td>A/5 21171</td>\n",
              "      <td>7.2500</td>\n",
              "      <td>¯\\(ツ)/¯</td>\n",
              "      <td>S</td>\n",
              "      <td>1.0</td>\n",
              "      <td>0</td>\n",
              "      <td>0</td>\n",
              "      <td>0</td>\n",
              "      <td>1</td>\n",
              "    </tr>\n",
              "    <tr>\n",
              "      <th>1</th>\n",
              "      <td>2.0</td>\n",
              "      <td>1.0</td>\n",
              "      <td>1.0</td>\n",
              "      <td>Cumings, Mrs. John Bradley (Florence Briggs Th...</td>\n",
              "      <td>female</td>\n",
              "      <td>38.0</td>\n",
              "      <td>1.0</td>\n",
              "      <td>0.0</td>\n",
              "      <td>PC 17599</td>\n",
              "      <td>71.2833</td>\n",
              "      <td>C85</td>\n",
              "      <td>C</td>\n",
              "      <td>1.0</td>\n",
              "      <td>0</td>\n",
              "      <td>1</td>\n",
              "      <td>0</td>\n",
              "      <td>0</td>\n",
              "    </tr>\n",
              "  </tbody>\n",
              "</table>\n",
              "</div>"
            ]
          },
          "metadata": {}
        }
      ],
      "execution_count": 12,
      "metadata": {
        "collapsed": false,
        "outputHidden": false,
        "inputHidden": false
      }
    },
    {
      "cell_type": "code",
      "source": [
        "SexDummy=pd.get_dummies(combineddf['Sex'])\n",
        "Sex_F = SexDummy['female']\n",
        "Sex_M = SexDummy['male']\n",
        "\n",
        "combineddf = pd.concat([combineddf, Sex_F, Sex_M], axis=1)\n",
        "combineddf[0:2]"
      ],
      "outputs": [
        {
          "output_type": "execute_result",
          "execution_count": 13,
          "data": {
            "text/plain": [
              "   PassengerId  Survived  Pclass  \\\n",
              "0          1.0       0.0     3.0   \n",
              "1          2.0       1.0     1.0   \n",
              "\n",
              "                                                Name     Sex   Age  SibSp  \\\n",
              "0                            Braund, Mr. Owen Harris    male  22.0    1.0   \n",
              "1  Cumings, Mrs. John Bradley (Florence Briggs Th...  female  38.0    1.0   \n",
              "\n",
              "   Parch     Ticket     Fare    Cabin Embarked  FamilyCount  IsReverend  C  Q  \\\n",
              "0    0.0  A/5 21171   7.2500  ¯\\(ツ)/¯        S          1.0           0  0  0   \n",
              "1    0.0   PC 17599  71.2833      C85        C          1.0           0  1  0   \n",
              "\n",
              "   S  female  male  \n",
              "0  1       0     1  \n",
              "1  0       1     0  "
            ],
            "text/html": [
              "<div>\n",
              "<style scoped>\n",
              "    .dataframe tbody tr th:only-of-type {\n",
              "        vertical-align: middle;\n",
              "    }\n",
              "\n",
              "    .dataframe tbody tr th {\n",
              "        vertical-align: top;\n",
              "    }\n",
              "\n",
              "    .dataframe thead th {\n",
              "        text-align: right;\n",
              "    }\n",
              "</style>\n",
              "<table border=\"1\" class=\"dataframe\">\n",
              "  <thead>\n",
              "    <tr style=\"text-align: right;\">\n",
              "      <th></th>\n",
              "      <th>PassengerId</th>\n",
              "      <th>Survived</th>\n",
              "      <th>Pclass</th>\n",
              "      <th>Name</th>\n",
              "      <th>Sex</th>\n",
              "      <th>Age</th>\n",
              "      <th>SibSp</th>\n",
              "      <th>Parch</th>\n",
              "      <th>Ticket</th>\n",
              "      <th>Fare</th>\n",
              "      <th>Cabin</th>\n",
              "      <th>Embarked</th>\n",
              "      <th>FamilyCount</th>\n",
              "      <th>IsReverend</th>\n",
              "      <th>C</th>\n",
              "      <th>Q</th>\n",
              "      <th>S</th>\n",
              "      <th>female</th>\n",
              "      <th>male</th>\n",
              "    </tr>\n",
              "  </thead>\n",
              "  <tbody>\n",
              "    <tr>\n",
              "      <th>0</th>\n",
              "      <td>1.0</td>\n",
              "      <td>0.0</td>\n",
              "      <td>3.0</td>\n",
              "      <td>Braund, Mr. Owen Harris</td>\n",
              "      <td>male</td>\n",
              "      <td>22.0</td>\n",
              "      <td>1.0</td>\n",
              "      <td>0.0</td>\n",
              "      <td>A/5 21171</td>\n",
              "      <td>7.2500</td>\n",
              "      <td>¯\\(ツ)/¯</td>\n",
              "      <td>S</td>\n",
              "      <td>1.0</td>\n",
              "      <td>0</td>\n",
              "      <td>0</td>\n",
              "      <td>0</td>\n",
              "      <td>1</td>\n",
              "      <td>0</td>\n",
              "      <td>1</td>\n",
              "    </tr>\n",
              "    <tr>\n",
              "      <th>1</th>\n",
              "      <td>2.0</td>\n",
              "      <td>1.0</td>\n",
              "      <td>1.0</td>\n",
              "      <td>Cumings, Mrs. John Bradley (Florence Briggs Th...</td>\n",
              "      <td>female</td>\n",
              "      <td>38.0</td>\n",
              "      <td>1.0</td>\n",
              "      <td>0.0</td>\n",
              "      <td>PC 17599</td>\n",
              "      <td>71.2833</td>\n",
              "      <td>C85</td>\n",
              "      <td>C</td>\n",
              "      <td>1.0</td>\n",
              "      <td>0</td>\n",
              "      <td>1</td>\n",
              "      <td>0</td>\n",
              "      <td>0</td>\n",
              "      <td>1</td>\n",
              "      <td>0</td>\n",
              "    </tr>\n",
              "  </tbody>\n",
              "</table>\n",
              "</div>"
            ]
          },
          "metadata": {}
        }
      ],
      "execution_count": 13,
      "metadata": {
        "collapsed": false,
        "outputHidden": false,
        "inputHidden": false
      }
    },
    {
      "cell_type": "code",
      "source": [
        "combineddf[0:4]"
      ],
      "outputs": [
        {
          "output_type": "execute_result",
          "execution_count": 14,
          "data": {
            "text/plain": [
              "   PassengerId  Survived  Pclass  \\\n",
              "0          1.0       0.0     3.0   \n",
              "1          2.0       1.0     1.0   \n",
              "2          3.0       1.0     3.0   \n",
              "3          4.0       1.0     1.0   \n",
              "\n",
              "                                                Name     Sex   Age  SibSp  \\\n",
              "0                            Braund, Mr. Owen Harris    male  22.0    1.0   \n",
              "1  Cumings, Mrs. John Bradley (Florence Briggs Th...  female  38.0    1.0   \n",
              "2                             Heikkinen, Miss. Laina  female  26.0    0.0   \n",
              "3       Futrelle, Mrs. Jacques Heath (Lily May Peel)  female  35.0    1.0   \n",
              "\n",
              "   Parch            Ticket     Fare    Cabin Embarked  FamilyCount  \\\n",
              "0    0.0         A/5 21171   7.2500  ¯\\(ツ)/¯        S          1.0   \n",
              "1    0.0          PC 17599  71.2833      C85        C          1.0   \n",
              "2    0.0  STON/O2. 3101282   7.9250  ¯\\(ツ)/¯        S          0.0   \n",
              "3    0.0            113803  53.1000     C123        S          1.0   \n",
              "\n",
              "   IsReverend  C  Q  S  female  male  \n",
              "0           0  0  0  1       0     1  \n",
              "1           0  1  0  0       1     0  \n",
              "2           0  0  0  1       1     0  \n",
              "3           0  0  0  1       1     0  "
            ],
            "text/html": [
              "<div>\n",
              "<style scoped>\n",
              "    .dataframe tbody tr th:only-of-type {\n",
              "        vertical-align: middle;\n",
              "    }\n",
              "\n",
              "    .dataframe tbody tr th {\n",
              "        vertical-align: top;\n",
              "    }\n",
              "\n",
              "    .dataframe thead th {\n",
              "        text-align: right;\n",
              "    }\n",
              "</style>\n",
              "<table border=\"1\" class=\"dataframe\">\n",
              "  <thead>\n",
              "    <tr style=\"text-align: right;\">\n",
              "      <th></th>\n",
              "      <th>PassengerId</th>\n",
              "      <th>Survived</th>\n",
              "      <th>Pclass</th>\n",
              "      <th>Name</th>\n",
              "      <th>Sex</th>\n",
              "      <th>Age</th>\n",
              "      <th>SibSp</th>\n",
              "      <th>Parch</th>\n",
              "      <th>Ticket</th>\n",
              "      <th>Fare</th>\n",
              "      <th>Cabin</th>\n",
              "      <th>Embarked</th>\n",
              "      <th>FamilyCount</th>\n",
              "      <th>IsReverend</th>\n",
              "      <th>C</th>\n",
              "      <th>Q</th>\n",
              "      <th>S</th>\n",
              "      <th>female</th>\n",
              "      <th>male</th>\n",
              "    </tr>\n",
              "  </thead>\n",
              "  <tbody>\n",
              "    <tr>\n",
              "      <th>0</th>\n",
              "      <td>1.0</td>\n",
              "      <td>0.0</td>\n",
              "      <td>3.0</td>\n",
              "      <td>Braund, Mr. Owen Harris</td>\n",
              "      <td>male</td>\n",
              "      <td>22.0</td>\n",
              "      <td>1.0</td>\n",
              "      <td>0.0</td>\n",
              "      <td>A/5 21171</td>\n",
              "      <td>7.2500</td>\n",
              "      <td>¯\\(ツ)/¯</td>\n",
              "      <td>S</td>\n",
              "      <td>1.0</td>\n",
              "      <td>0</td>\n",
              "      <td>0</td>\n",
              "      <td>0</td>\n",
              "      <td>1</td>\n",
              "      <td>0</td>\n",
              "      <td>1</td>\n",
              "    </tr>\n",
              "    <tr>\n",
              "      <th>1</th>\n",
              "      <td>2.0</td>\n",
              "      <td>1.0</td>\n",
              "      <td>1.0</td>\n",
              "      <td>Cumings, Mrs. John Bradley (Florence Briggs Th...</td>\n",
              "      <td>female</td>\n",
              "      <td>38.0</td>\n",
              "      <td>1.0</td>\n",
              "      <td>0.0</td>\n",
              "      <td>PC 17599</td>\n",
              "      <td>71.2833</td>\n",
              "      <td>C85</td>\n",
              "      <td>C</td>\n",
              "      <td>1.0</td>\n",
              "      <td>0</td>\n",
              "      <td>1</td>\n",
              "      <td>0</td>\n",
              "      <td>0</td>\n",
              "      <td>1</td>\n",
              "      <td>0</td>\n",
              "    </tr>\n",
              "    <tr>\n",
              "      <th>2</th>\n",
              "      <td>3.0</td>\n",
              "      <td>1.0</td>\n",
              "      <td>3.0</td>\n",
              "      <td>Heikkinen, Miss. Laina</td>\n",
              "      <td>female</td>\n",
              "      <td>26.0</td>\n",
              "      <td>0.0</td>\n",
              "      <td>0.0</td>\n",
              "      <td>STON/O2. 3101282</td>\n",
              "      <td>7.9250</td>\n",
              "      <td>¯\\(ツ)/¯</td>\n",
              "      <td>S</td>\n",
              "      <td>0.0</td>\n",
              "      <td>0</td>\n",
              "      <td>0</td>\n",
              "      <td>0</td>\n",
              "      <td>1</td>\n",
              "      <td>1</td>\n",
              "      <td>0</td>\n",
              "    </tr>\n",
              "    <tr>\n",
              "      <th>3</th>\n",
              "      <td>4.0</td>\n",
              "      <td>1.0</td>\n",
              "      <td>1.0</td>\n",
              "      <td>Futrelle, Mrs. Jacques Heath (Lily May Peel)</td>\n",
              "      <td>female</td>\n",
              "      <td>35.0</td>\n",
              "      <td>1.0</td>\n",
              "      <td>0.0</td>\n",
              "      <td>113803</td>\n",
              "      <td>53.1000</td>\n",
              "      <td>C123</td>\n",
              "      <td>S</td>\n",
              "      <td>1.0</td>\n",
              "      <td>0</td>\n",
              "      <td>0</td>\n",
              "      <td>0</td>\n",
              "      <td>1</td>\n",
              "      <td>1</td>\n",
              "      <td>0</td>\n",
              "    </tr>\n",
              "  </tbody>\n",
              "</table>\n",
              "</div>"
            ]
          },
          "metadata": {}
        }
      ],
      "execution_count": 14,
      "metadata": {
        "collapsed": false,
        "outputHidden": false,
        "inputHidden": false
      }
    },
    {
      "cell_type": "code",
      "source": [
        "#Survival Rates of Passengers\n",
        "Survival = combineddf['Survived'].value_counts() \n",
        "Survivalpercent= Survival/len(combineddf['Survived'])\n",
        "Survivalpercent\n",
        "labels='Total Fatalities', 'Surivors of Titanic'\n",
        "colors = ['red', 'lightskyblue']\n",
        "plt.pie(Survivalpercent, labels=labels, autopct='%1.1f%%', colors=colors);\n",
        "plt.title('Total Survival Rate of Titanic Passengers');"
      ],
      "outputs": [
        {
          "output_type": "display_data",
          "data": {
            "text/plain": [
              "<Figure size 432x288 with 1 Axes>"
            ],
            "image/png": "[encoded data removed]"
          },
          "metadata": {}
        }
      ],
      "execution_count": 15,
      "metadata": {
        "collapsed": false,
        "outputHidden": false,
        "inputHidden": false
      }
    },
    {
      "cell_type": "code",
      "source": [
        "FemPop = combineddf[(combineddf['female'] == 1)]['female'].value_counts ()#How many Females 312\n",
        "FemPop = 312 #Set to an absolute otherwise 1 will only pass on other 1 values\n",
        "FemSur = combineddf[(combineddf['female'] == 1)]['Survived'].value_counts() #How many female survivors 231 vs 81 drowned\n",
        "Femrates = FemSur/FemPop\n",
        "labels='Female Survival', 'Female Fatality'\n",
        "colors = ['lightskyblue', 'red' ]\n",
        "plt.pie(Femrates, labels=labels, autopct='%1.1f%%', colors=colors);\n",
        "plt.title('Female Survival Rates');"
      ],
      "outputs": [
        {
          "output_type": "display_data",
          "data": {
            "text/plain": [
              "<Figure size 432x288 with 1 Axes>"
            ],
            "image/png": "[encoded data removed]"
          },
          "metadata": {}
        }
      ],
      "execution_count": 16,
      "metadata": {
        "collapsed": false,
        "outputHidden": false,
        "inputHidden": false
      }
    },
    {
      "cell_type": "code",
      "source": [
        "MalPop = combineddf[(combineddf['male'] == 1)]['male'].value_counts ()#How many Males 577\n",
        "MalPop = 577\n",
        "MalSur = combineddf[(combineddf['male'] == 1)]['Survived'].value_counts() #Males 109 Survived 468 Died\n",
        "Malrates = MalSur/MalPop\n",
        "labels = 'Male Fatality', 'Male Survival'\n",
        "colors = ['red', 'lightskyblue']\n",
        "plt.pie(Malrates, labels=labels, autopct='%1.1f%%', colors=colors);\n",
        "plt.title('Male Survival Rates');"
      ],
      "outputs": [
        {
          "output_type": "display_data",
          "data": {
            "text/plain": [
              "<Figure size 432x288 with 1 Axes>"
            ],
            "image/png": "[encoded data removed]"
          },
          "metadata": {}
        }
      ],
      "execution_count": 17,
      "metadata": {
        "collapsed": false,
        "outputHidden": false,
        "inputHidden": false
      }
    },
    {
      "cell_type": "code",
      "source": [
        "PclassDiv = combineddf['Pclass']\n",
        "plt.hist(PclassDiv, bins=7);\n",
        "plt.xticks([1,2,3])\n",
        "plt.title('Number of passengers based on class')"
      ],
      "outputs": [
        {
          "output_type": "execute_result",
          "execution_count": 150,
          "data": {
            "text/plain": [
              "Text(0.5, 1.0, 'Number of passengers based on class')"
            ]
          },
          "metadata": {}
        },
        {
          "output_type": "display_data",
          "data": {
            "text/plain": [
              "<Figure size 432x288 with 1 Axes>"
            ],
            "image/png": "[encoded data removed]"
          },
          "metadata": {
            "needs_background": "light"
          }
        }
      ],
      "execution_count": 150,
      "metadata": {
        "collapsed": false,
        "outputHidden": false,
        "inputHidden": false
      }
    },
    {
      "cell_type": "code",
      "source": [
        "#Graphing all PClasses with Survival Rates\n",
        "Pclass1 = combineddf[(combineddf['Pclass'] == 1)]['Survived'].value_counts()\n",
        "Pclass2 = combineddf[(combineddf['Pclass'] == 2)]['Survived'].value_counts()\n",
        "Pclass3 = combineddf[(combineddf['Pclass'] == 3)]['Survived'].value_counts()\n",
        "\n",
        "Pclass1 #134 survived 80 dead\n",
        "Pclass2 #97 dead, 87 survived\n",
        "Pclass3 #372 dead, 119 survived"
      ],
      "outputs": [
        {
          "output_type": "execute_result",
          "execution_count": 19,
          "data": {
            "text/plain": [
              "0.0    372\n",
              "1.0    119\n",
              "Name: Survived, dtype: int64"
            ]
          },
          "metadata": {}
        }
      ],
      "execution_count": 19,
      "metadata": {
        "collapsed": false,
        "outputHidden": false,
        "inputHidden": false
      }
    },
    {
      "cell_type": "code",
      "source": [
        "figure, ax = plt.subplots(nrows=1, ncols=3, figsize = (10,4) )\n",
        "plt.title('Class Survival Rates')\n",
        "labels1 = 'PC1 Survived' , 'PC1 Died'\n",
        "labels2 = 'PC2 Died', 'PC2 Survived'\n",
        "labels3 = 'PC3 Died', 'PC3 Survived'\n",
        "colors1 = ['green', 'red']\n",
        "colors2 = ['red', 'green']\n",
        "ax[0].pie(Pclass1, labels=labels1, colors=colors1, autopct='%1.1f%%' );\n",
        "ax[1].pie(Pclass2, labels=labels2, colors=colors2, autopct='%1.1f%%');\n",
        "ax[2].pie(Pclass3, labels=labels3, colors=colors2, autopct='%1.1f%%');\n",
        "\n#The higher the class the better survival rate"
      ],
      "outputs": [
        {
          "output_type": "display_data",
          "data": {
            "text/plain": [
              "<Figure size 720x288 with 3 Axes>"
            ],
            "image/png": "[encoded data removed]"
          },
          "metadata": {}
        }
      ],
      "execution_count": 20,
      "metadata": {
        "collapsed": false,
        "outputHidden": false,
        "inputHidden": false
      }
    },
    {
      "cell_type": "code",
      "source": [
        "reverenddead=combineddf[(combineddf['IsReverend'] ==1)]['Survived'] \n",
        "reverenddead\n",
        "# All reverends.... they dead\n"
      ],
      "outputs": [
        {
          "output_type": "execute_result",
          "execution_count": 21,
          "data": {
            "text/plain": [
              "149    0.0\n",
              "150    0.0\n",
              "249    0.0\n",
              "626    0.0\n",
              "848    0.0\n",
              "886    0.0\n",
              "Name: Survived, dtype: float64"
            ]
          },
          "metadata": {}
        }
      ],
      "execution_count": 21,
      "metadata": {
        "collapsed": false,
        "outputHidden": false,
        "inputHidden": false
      }
    },
    {
      "cell_type": "code",
      "source": [
        "#What is the survival rate for cabins marked ¯\\(ツ)/¯\n",
        "\n",
        "ShrugCabin = (combineddf[(combineddf['Cabin'] == '¯\\(ツ)/¯')]['Survived'].value_counts()) \n",
        "combineddf[(combineddf['Cabin'] == '¯\\(ツ)/¯')].shape\n",
        "ShrugCabinSize = 687\n",
        "ShrugCabinSurv = ShrugCabin/ShrugCabinSize\n",
        "\n\n",
        "labels='Death', 'Alive'\n",
        "colors = ['red', 'lightskyblue']\n",
        "plt.title('Shrug Cabin Survival Rate')\n",
        "plt.pie(ShrugCabinSurv, labels=labels, autopct='%1.1f%%', colors=colors);\n"
      ],
      "outputs": [
        {
          "output_type": "display_data",
          "data": {
            "text/plain": [
              "<Figure size 432x288 with 1 Axes>"
            ],
            "image/png": "[encoded data removed]"
          },
          "metadata": {}
        }
      ],
      "execution_count": 22,
      "metadata": {
        "collapsed": false,
        "outputHidden": false,
        "inputHidden": false
      }
    },
    {
      "cell_type": "code",
      "source": [
        "#What is the survival rate for people whose Age is empty?\n",
        "EmptyAgeSurv = combineddf[(combineddf['Age'].isnull() ==True)]['Survived'].value_counts()\n",
        "EAP = EmptyAgeSurv /177 \n",
        "\n",
        "plt.title('Empty Age Survial Rates')\n",
        "labels = 'Fatality', 'Alive'\n",
        "plt.pie(EAP, labels=labels, autopct='%1.1f%%', colors=colors);\n"
      ],
      "outputs": [
        {
          "output_type": "display_data",
          "data": {
            "text/plain": [
              "<Figure size 432x288 with 1 Axes>"
            ],
            "image/png": "[encoded data removed]"
          },
          "metadata": {}
        }
      ],
      "execution_count": 23,
      "metadata": {
        "collapsed": false,
        "outputHidden": false,
        "inputHidden": false
      }
    },
    {
      "cell_type": "code",
      "source": [
        "#What is the survival rate for each port of embarkation?\n",
        "embC = (combineddf[(combineddf['C'] == 1)]['Survived'].value_counts()) / sum((combineddf[(combineddf['C'] == 1)]['Survived'].value_counts()))\n",
        "embQ = (combineddf[(combineddf['Q'] == 1)]['Survived'].value_counts()) / sum((combineddf[(combineddf['Q'] == 1)]['Survived'].value_counts()))\n",
        "embS = (combineddf[(combineddf['S'] == 1)]['Survived'].value_counts()) / sum((combineddf[(combineddf['S'] == 1)]['Survived'].value_counts()))\n",
        "\n",
        "figure, ax = plt.subplots(nrows=1, ncols=3, figsize = (10,4) )\n",
        "plt.title('Embarked Areas Survival Rates')\n",
        "labels1 = 'EMB C Dead' , 'C Survived'\n",
        "labels2 = 'EMB Q Dead' , 'Q Survived'\n",
        "labels3 = 'EMB S Dead' , 'S Survived'\n",
        "colors = ['red', 'green']\n",
        "ax[0].pie(embC, labels=labels1, colors=colors, autopct='%1.1f%%' );\n",
        "ax[1].pie(embQ, labels=labels2, colors=colors, autopct='%1.1f%%');\n",
        "ax[2].pie(embS, labels=labels3, colors=colors, autopct='%1.1f%%');"
      ],
      "outputs": [
        {
          "output_type": "display_data",
          "data": {
            "text/plain": [
              "<Figure size 720x288 with 3 Axes>"
            ],
            "image/png": "[encoded data removed]"
          },
          "metadata": {}
        }
      ],
      "execution_count": 24,
      "metadata": {
        "collapsed": false,
        "outputHidden": false,
        "inputHidden": false
      }
    },
    {
      "cell_type": "code",
      "source": [
        "#Version 2\n",
        "embC = (combineddf[(combineddf['C'] == 1)& (combineddf['Survived'] == 1)]['Survived'].value_counts()) / sum((combineddf[(combineddf['C'] == 1)]['Survived'].value_counts()))\n",
        "embQ = (combineddf[(combineddf['Q'] == 1)& (combineddf['Survived'] == 1)]['Survived'].value_counts()) / sum((combineddf[(combineddf['Q'] == 1)]['Survived'].value_counts()))\n",
        "embS = (combineddf[(combineddf['S'] == 1)& (combineddf['Survived'] == 1)]['Survived'].value_counts()) / sum((combineddf[(combineddf['S'] == 1)]['Survived'].value_counts()))\n",
        "\n",
        "x = [embC[1], embQ[1], embS[1]] \n",
        "xrange = ['EMB C', 'EMB Q', 'EMB S']\n",
        "plt.bar(xrange, x)\n",
        "plt.xticks(xrange);"
      ],
      "outputs": [
        {
          "output_type": "display_data",
          "data": {
            "text/plain": [
              "<Figure size 432x288 with 1 Axes>"
            ],
            "image/png": "[encoded data removed]"
          },
          "metadata": {
            "needs_background": "light"
          }
        }
      ],
      "execution_count": 25,
      "metadata": {
        "collapsed": false,
        "outputHidden": false,
        "inputHidden": false
      }
    },
    {
      "cell_type": "code",
      "source": [
        "#What is the survival rate for children (under 12) in each Pclass?\n",
        "\n\n",
        "P1chil = (combineddf[(combineddf['Pclass'] == 1) &(combineddf['Age'] < 12)]['Survived'].value_counts()) / sum((combineddf[(combineddf['Pclass'] == 1) &(combineddf['Age'] < 12)]['Survived'].value_counts()) )\n",
        "P2chil = (combineddf[(combineddf['Pclass'] == 2) &(combineddf['Age'] < 12)]['Survived'].value_counts()) / sum((combineddf[(combineddf['Pclass'] == 2) &(combineddf['Age'] < 12)]['Survived'].value_counts()) )\n",
        "P3chil = (combineddf[(combineddf['Pclass'] == 3) &(combineddf['Age'] < 12)]['Survived'].value_counts()) / sum((combineddf[(combineddf['Pclass'] == 3) &(combineddf['Age'] < 12)]['Survived'].value_counts()) )\n",
        "\n\n",
        "x = [P1chil[1], P2chil[1], P3chil[1]] \n",
        "xrange = ['PC1', 'PC2', 'PC3']\n",
        "plt.bar(xrange, x)\n",
        "plt.title('Survival % Rate of Children in each class')\n",
        "plt.xticks(xrange);\n"
      ],
      "outputs": [
        {
          "output_type": "display_data",
          "data": {
            "text/plain": [
              "<Figure size 432x288 with 1 Axes>"
            ],
            "image/png": "[encoded data removed]"
          },
          "metadata": {
            "needs_background": "light"
          }
        }
      ],
      "execution_count": 26,
      "metadata": {
        "collapsed": false,
        "outputHidden": false,
        "inputHidden": false
      }
    },
    {
      "cell_type": "code",
      "source": [
        "#Did the captain of the ship survive? Is he on the list?\n",
        "\n",
        "for x in range(0, len(combineddf)):\n",
        "    if \"Capt\" in str(combineddf['Name'][x]):\n",
        "        print(x)\n",
        "        \n",
        "combineddf.iloc[745]\n",
        "#Captain went down with the ship"
      ],
      "outputs": [
        {
          "output_type": "stream",
          "name": "stdout",
          "text": [
            "745\n"
          ]
        },
        {
          "output_type": "execute_result",
          "execution_count": 27,
          "data": {
            "text/plain": [
              "PassengerId                             746\n",
              "Survived                                  0\n",
              "Pclass                                    1\n",
              "Name           Crosby, Capt. Edward Gifford\n",
              "Sex                                    male\n",
              "Age                                      70\n",
              "SibSp                                     1\n",
              "Parch                                     1\n",
              "Ticket                            WE/P 5735\n",
              "Fare                                     71\n",
              "Cabin                                   B22\n",
              "Embarked                                  S\n",
              "FamilyCount                               2\n",
              "IsReverend                                0\n",
              "C                                         0\n",
              "Q                                         0\n",
              "S                                         1\n",
              "female                                    0\n",
              "male                                      1\n",
              "Name: 745, dtype: object"
            ]
          },
          "metadata": {}
        }
      ],
      "execution_count": 27,
      "metadata": {
        "collapsed": false,
        "outputHidden": false,
        "inputHidden": false
      }
    },
    {
      "cell_type": "code",
      "source": [
        "#Of all the people that died, who had the most expensive ticket? How much did it cost?\n",
        "\n",
        "combineddf['Fare'][(combineddf['Survived'] == 0)].sort_values(ascending  = False)\n"
      ],
      "outputs": [
        {
          "output_type": "execute_result",
          "execution_count": 28,
          "data": {
            "text/plain": [
              "27     263.0000\n",
              "438    263.0000\n",
              "118    247.5208\n",
              "557    227.5250\n",
              "527    221.7792\n",
              "377    211.5000\n",
              "332    153.4625\n",
              "498    151.5500\n",
              "297    151.5500\n",
              "373    135.6333\n",
              "659    113.2750\n",
              "698    110.8833\n",
              "505    108.9000\n",
              "544    106.4250\n",
              "245     90.0000\n",
              "62      83.4750\n",
              "34      82.1708\n",
              "262     79.6500\n",
              "139     79.2000\n",
              "789     79.2000\n",
              "741     78.8500\n",
              "102     77.2875\n",
              "124     77.2875\n",
              "120     73.5000\n",
              "665     73.5000\n",
              "655     73.5000\n",
              "72      73.5000\n",
              "385     73.5000\n",
              "745     71.0000\n",
              "846     69.5500\n",
              "         ...   \n",
              "131      7.0500\n",
              "465      7.0500\n",
              "784      7.0500\n",
              "477      7.0458\n",
              "129      6.9750\n",
              "825      6.9500\n",
              "411      6.8583\n",
              "654      6.7500\n",
              "143      6.7500\n",
              "371      6.4958\n",
              "202      6.4958\n",
              "818      6.4500\n",
              "843      6.4375\n",
              "326      6.2375\n",
              "872      5.0000\n",
              "378      4.0125\n",
              "413      0.0000\n",
              "822      0.0000\n",
              "674      0.0000\n",
              "633      0.0000\n",
              "481      0.0000\n",
              "815      0.0000\n",
              "302      0.0000\n",
              "806      0.0000\n",
              "466      0.0000\n",
              "732      0.0000\n",
              "597      0.0000\n",
              "263      0.0000\n",
              "277      0.0000\n",
              "179      0.0000\n",
              "Name: Fare, Length: 549, dtype: float64"
            ]
          },
          "metadata": {}
        }
      ],
      "execution_count": 28,
      "metadata": {
        "collapsed": false,
        "outputHidden": false,
        "inputHidden": false
      }
    },
    {
      "cell_type": "code",
      "source": [
        "\n",
        "combineddf.iloc[27]\n",
        "\n#Mr. Charles Alexander Fortune had the misforturne of paying the most and dying"
      ],
      "outputs": [
        {
          "output_type": "execute_result",
          "execution_count": 29,
          "data": {
            "text/plain": [
              "PassengerId                                28\n",
              "Survived                                    0\n",
              "Pclass                                      1\n",
              "Name           Fortune, Mr. Charles Alexander\n",
              "Sex                                      male\n",
              "Age                                        19\n",
              "SibSp                                       3\n",
              "Parch                                       2\n",
              "Ticket                                  19950\n",
              "Fare                                      263\n",
              "Cabin                             C23 C25 C27\n",
              "Embarked                                    S\n",
              "FamilyCount                                 5\n",
              "IsReverend                                  0\n",
              "C                                           0\n",
              "Q                                           0\n",
              "S                                           1\n",
              "female                                      0\n",
              "male                                        1\n",
              "Name: 27, dtype: object"
            ]
          },
          "metadata": {}
        }
      ],
      "execution_count": 29,
      "metadata": {
        "collapsed": false,
        "outputHidden": false,
        "inputHidden": false
      }
    },
    {
      "cell_type": "code",
      "source": [
        "#Does having family on the boat help or hurt your chances of survival?\n",
        "\n",
        "FamRates = combineddf[((combineddf['SibSp'] > 0) | (combineddf['Parch'] > 0))]['Survived'].value_counts() \n",
        "NoFamRates = combineddf[((combineddf['SibSp'] == 0) & (combineddf['Parch'] == 0))]['Survived'].value_counts() \n",
        "\n",
        "FamPercent =FamRates / sum(FamRates) #554\n",
        "NoFamPercent =NoFamRates / sum(NoFamRates)#335 \n",
        "\n",
        "x = [NoFamPercent[1], FamPercent[0]]\n",
        "xrange = ['Solo', 'Family']\n",
        "plt.title(\"Survival Solo vs Family\")\n",
        "plt.bar(xrange, x)\n",
        "plt.xticks(xrange)\n"
      ],
      "outputs": [
        {
          "output_type": "execute_result",
          "execution_count": 30,
          "data": {
            "text/plain": [
              "([<matplotlib.axis.XTick at 0x2a6e99bcef0>,\n",
              "  <matplotlib.axis.XTick at 0x2a6e99bc828>],\n",
              " <a list of 2 Text xticklabel objects>)"
            ]
          },
          "metadata": {}
        },
        {
          "output_type": "display_data",
          "data": {
            "text/plain": [
              "<Figure size 432x288 with 1 Axes>"
            ],
            "image/png": "[encoded data removed]"
          },
          "metadata": {
            "needs_background": "light"
          }
        }
      ],
      "execution_count": 30,
      "metadata": {
        "collapsed": false,
        "outputHidden": false,
        "inputHidden": false
      }
    },
    {
      "cell_type": "code",
      "source": [
        "# Visualizations and Insights (focused on Age):"
      ],
      "outputs": [],
      "execution_count": 31,
      "metadata": {
        "collapsed": false,
        "outputHidden": false,
        "inputHidden": false
      }
    },
    {
      "cell_type": "code",
      "source": [
        "#Age Ranges frequency\n",
        "combineddf.hist('Age', bins= 10)\n"
      ],
      "outputs": [
        {
          "output_type": "execute_result",
          "execution_count": 130,
          "data": {
            "text/plain": [
              "array([[<matplotlib.axes._subplots.AxesSubplot object at 0x000002A6EF5A72E8>]],\n",
              "      dtype=object)"
            ]
          },
          "metadata": {}
        },
        {
          "output_type": "display_data",
          "data": {
            "text/plain": [
              "<Figure size 432x288 with 1 Axes>"
            ],
            "image/png": "[encoded data removed]"
          },
          "metadata": {
            "needs_background": "light"
          }
        }
      ],
      "execution_count": 130,
      "metadata": {
        "collapsed": false,
        "outputHidden": false,
        "inputHidden": false
      }
    },
    {
      "cell_type": "code",
      "source": [
        "#Survival by age %. \n",
        "age_survival_freq = combineddf[(combineddf['Survived'] == 1)]['Age'].value_counts() / combineddf['Age'].value_counts()\n",
        "age_survival_freq.dropna(inplace=True)\n",
        "age_survival_freq\n",
        "\n",
        "agelist=[\n",
        "age_survival_freq[0:11].mean(),\n",
        "age_survival_freq[11:21].mean(),\n",
        "age_survival_freq[21:31].mean(),\n",
        "age_survival_freq[31:41].mean(),\n",
        "age_survival_freq[41:51].mean(),\n",
        "age_survival_freq[51:61].mean(),\n",
        "age_survival_freq[61:71].mean(),\n",
        "age_survival_freq[71:81].mean(),\n",
        "]\n"
      ],
      "outputs": [],
      "execution_count": 136,
      "metadata": {
        "collapsed": false,
        "outputHidden": false,
        "inputHidden": false
      }
    },
    {
      "cell_type": "code",
      "source": [
        "agelist"
      ],
      "outputs": [
        {
          "output_type": "execute_result",
          "execution_count": 137,
          "data": {
            "text/plain": [
              "[0.7031746031746031,\n",
              " 0.4980878924996572,\n",
              " 0.38227057445727525,\n",
              " 0.42503172209054557,\n",
              " 0.39750305250305246,\n",
              " 0.5325892857142858,\n",
              " 0.6666666666666666,\n",
              " 1.0]"
            ]
          },
          "metadata": {}
        }
      ],
      "execution_count": 137,
      "metadata": {
        "collapsed": false,
        "outputHidden": false,
        "inputHidden": false
      }
    },
    {
      "cell_type": "code",
      "source": [
        "plt.plot([10,20,30,40,50,60,70,80], agelist);\n",
        "plt.title('Survival rate based on age')"
      ],
      "outputs": [
        {
          "output_type": "execute_result",
          "execution_count": 140,
          "data": {
            "text/plain": [
              "Text(0.5, 1.0, 'Survival rate based on age')"
            ]
          },
          "metadata": {}
        },
        {
          "output_type": "display_data",
          "data": {
            "text/plain": [
              "<Figure size 432x288 with 1 Axes>"
            ],
            "image/png": "[encoded data removed]"
          },
          "metadata": {
            "needs_background": "light"
          }
        }
      ],
      "execution_count": 140,
      "metadata": {
        "collapsed": false,
        "outputHidden": false,
        "inputHidden": false
      }
    },
    {
      "cell_type": "code",
      "source": [],
      "outputs": [],
      "execution_count": null,
      "metadata": {
        "collapsed": false,
        "outputHidden": false,
        "inputHidden": false
      }
    },
    {
      "cell_type": "code",
      "source": [],
      "outputs": [],
      "execution_count": null,
      "metadata": {
        "collapsed": false,
        "outputHidden": false,
        "inputHidden": false
      }
    }
  ],
  "metadata": {
    "kernelspec": {
      "name": "python3",
      "language": "python",
      "display_name": "Python 3"
    },
    "language_info": {
      "name": "python",
      "version": "3.6.7",
      "mimetype": "text/x-python",
      "codemirror_mode": {
        "name": "ipython",
        "version": 3
      },
      "pygments_lexer": "ipython3",
      "nbconvert_exporter": "python",
      "file_extension": ".py"
    },
    "kernel_info": {
      "name": "python3"
    },
    "nteract": {
      "version": "0.12.3"
    }
  },
  "nbformat": 4,
  "nbformat_minor": 2
}